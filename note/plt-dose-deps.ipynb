{
 "cells": [
  {
   "cell_type": "markdown",
   "id": "c33f9dea-4513-4864-9e19-715964659d04",
   "metadata": {},
   "source": [
    "# dose - depth plot programs "
   ]
  },
  {
   "cell_type": "markdown",
   "id": "b01184d6-9128-49e4-bba2-b2377cdfbb22",
   "metadata": {},
   "source": [
    "### define the functions"
   ]
  },
  {
   "cell_type": "code",
   "execution_count": 17,
   "id": "893ac800-4261-497f-9655-8d9dc5c97498",
   "metadata": {},
   "outputs": [],
   "source": [
    "import numpy as np\n",
    "import matplotlib.pyplot as plt\n",
    "import pandas as pd"
   ]
  },
  {
   "cell_type": "code",
   "execution_count": 113,
   "id": "f9f1a4de-3a74-4191-930a-4266fdf0594a",
   "metadata": {},
   "outputs": [],
   "source": [
    "def MakeDoseList_z(filename,Z):\n",
    "\n",
    "    data_origin = pd.read_csv(filename)\n",
    "    \n",
    "    data_dose = data_origin[data_origin['dose']>0].drop(columns = [\"ix\",\"iy\",\"iz\"])\n",
    "    data_z = data_origin[data_origin['dose']>0].drop(columns = [\"ix\",\"iy\",\"dose\"])\n",
    "    \n",
    "    deps = np.zeros(Z)\n",
    "    list_z = np.zeros(Z)\n",
    "    \n",
    "    for i in range(len(data_z)):\n",
    "        deps[data_z.iloc[i]] += data_dose.iloc[i]\n",
    "    for i in range(Z):\n",
    "        list_z[i] = 0.2 * i\n",
    "\n",
    "    return list_z,deps"
   ]
  },
  {
   "cell_type": "code",
   "execution_count": 121,
   "id": "860bdbbf-1417-4993-9f36-ada12c3fd566",
   "metadata": {},
   "outputs": [],
   "source": [
    "def MakeDoseList_z_new(filename,Z):\n",
    "\n",
    "    data_origin = pd.read_csv(filename)\n",
    "    \n",
    "    data = data_origin[data_origin['dose']>0].drop(columns = [\"ix\",\"iy\"])\n",
    "    \n",
    "    for i in range(Z):\n",
    "        d += data[data['iz'] == i]\n",
    "        print(d)\n",
    "\n",
    "    return "
   ]
  },
  {
   "cell_type": "code",
   "execution_count": 19,
   "id": "a1a20a2e-47f5-4c34-9652-ba34a69eb3c7",
   "metadata": {},
   "outputs": [],
   "source": [
    "def MakeDoseList_scorp(filename, Z, scorp_x, scorp_y):\n",
    "    data_origin = pd.read_csv(filename)\n",
    "\n",
    "    data_scorp_y = data_origin[data_origin['iy'] == scorp_y]\n",
    "    data_scorp_xy = data_scorp_y[data_scorp_y['ix'] == scorp_x].drop(columns = ['ix','iy','iz'])\n",
    "    \n",
    "    list_z = np.zeros(Z)\n",
    "    for i in range(Z):\n",
    "        list_z[i] = 0.2 * i\n",
    "    \n",
    "    return list_z, data_scorp_xy"
   ]
  },
  {
   "cell_type": "markdown",
   "id": "e6ed0c28-4611-4162-8676-738e687227fc",
   "metadata": {},
   "source": [
    "### Import csv data written by voxel order"
   ]
  },
  {
   "cell_type": "code",
   "execution_count": 114,
   "id": "78b45f25-de2b-4de5-9e4a-09468fa9d75c",
   "metadata": {},
   "outputs": [
    {
     "name": "stdout",
     "output_type": "stream",
     "text": [
      "Empty DataFrame\n",
      "Columns: [ix, iy, iz, dose]\n",
      "Index: []\n"
     ]
    }
   ],
   "source": [
    "z,deps_beam = MakeDoseList_z(\"/home/yoshijun/Work/g4bench/build/vgeo/g4bench_beam.csv\",150)"
   ]
  },
  {
   "cell_type": "code",
   "execution_count": 21,
   "id": "a6fcecca-8034-4b83-bce2-b5f47d3069ef",
   "metadata": {},
   "outputs": [],
   "source": [
    "z,deps_gun = MakeDoseList_z(\"/home/yoshijun/Work/g4bench/build/vgeo/g4bench_gun.csv\",150)"
   ]
  },
  {
   "cell_type": "code",
   "execution_count": 22,
   "id": "d7576294-0ad1-4f96-9370-63bc19bd2768",
   "metadata": {},
   "outputs": [],
   "source": [
    "z,deps_my_gun = MakeDoseList_z(\"/home/yoshijun/Work/tutorial01/TestBench/data/pencilbeam.csv\",150)"
   ]
  },
  {
   "cell_type": "code",
   "execution_count": 23,
   "id": "4ee61511-87e4-4880-84b0-c11cd87bb01e",
   "metadata": {},
   "outputs": [],
   "source": [
    "z,deps_my_beam = MakeDoseList_z(\"/home/yoshijun/Work/tutorial01/TestBench/data/broadbeam.csv\",150)"
   ]
  },
  {
   "cell_type": "markdown",
   "id": "d0836560-4699-4862-87ae-1228b56f7f69",
   "metadata": {},
   "source": [
    "### Import csv data written by voxel order (x,y) = (30,30)"
   ]
  },
  {
   "cell_type": "code",
   "execution_count": 69,
   "id": "164b40ff-3402-42a2-a668-f1d1dbb9a6cd",
   "metadata": {},
   "outputs": [],
   "source": [
    "z,deps_my_beam_scorp = MakeDoseList_scorp('/home/yoshijun/Work/tutorial01/TestBench/data/broadbeam.csv',150,30,30)"
   ]
  },
  {
   "cell_type": "code",
   "execution_count": 70,
   "id": "e8a3ab7d-2536-45c6-b822-8597f7058ebd",
   "metadata": {},
   "outputs": [],
   "source": [
    "z,deps_my_gun_scorp = MakeDoseList_scorp('/home/yoshijun/Work/tutorial01/TestBench/data/pencilbeam.csv',150,30,30)"
   ]
  },
  {
   "cell_type": "code",
   "execution_count": 71,
   "id": "2d0b25aa-9c56-4558-9d2d-0611612960af",
   "metadata": {},
   "outputs": [],
   "source": [
    "z,deps_beam_scorp = MakeDoseList_scorp(\"/home/yoshijun/Work/g4bench/build/vgeo/g4bench_beam.csv\",150,30,30)"
   ]
  },
  {
   "cell_type": "code",
   "execution_count": 72,
   "id": "0381bdc8-50aa-4084-a9eb-d04d34904a6f",
   "metadata": {},
   "outputs": [],
   "source": [
    "z,deps_gun_scorp = MakeDoseList_scorp(\"/home/yoshijun/Work/g4bench/build/vgeo/g4bench_gun.csv\",150,30,30)"
   ]
  },
  {
   "cell_type": "markdown",
   "id": "1d1f73bd-3222-4ef6-8683-7b1e87b5ed3c",
   "metadata": {},
   "source": [
    "### Plot depth -dose"
   ]
  },
  {
   "cell_type": "code",
   "execution_count": 73,
   "id": "ac836aa3-d912-4122-bad9-cb3bacdf7329",
   "metadata": {},
   "outputs": [
    {
     "data": {
      "image/png": "[encoded data removed]",
      "text/plain": [
       "<Figure size 432x288 with 1 Axes>"
      ]
     },
     "metadata": {
      "needs_background": "light"
     },
     "output_type": "display_data"
    }
   ],
   "source": [
    "# plt.plot(z,deps_beam, label = \"g4bench_beam\")\n",
    "plt.plot(z,deps_gun,  label = \"g4bench_gun\")\n",
    "plt.plot(z,deps_my_gun, label= \"my_gun\")\n",
    "# plt.plot(z,deps_my_beam, label = \"my_beam\")\n",
    "plt.title(\"deps-dose\")\n",
    "# plt.xlim(5,12)\n",
    "plt.legend()\n",
    "plt.show()"
   ]
  },
  {
   "cell_type": "code",
   "execution_count": 74,
   "id": "7ca21779-690d-4759-a0d3-8ac25f561d54",
   "metadata": {},
   "outputs": [
    {
     "data": {
      "image/png": "[encoded data removed]",
      "text/plain": [
       "<Figure size 432x288 with 1 Axes>"
      ]
     },
     "metadata": {
      "needs_background": "light"
     },
     "output_type": "display_data"
    }
   ],
   "source": [
    "plt.plot(z,deps_beam_scorp, label = \"g4bench_beam\")\n",
    "plt.plot(z,deps_my_beam_scorp, label = \"my_beam\")\n",
    "plt.title(\"deps-dose-beam (30,30)\")\n",
    "plt.legend()\n",
    "plt.show()"
   ]
  },
  {
   "cell_type": "code",
   "execution_count": 75,
   "id": "1a5227f9-273d-44f9-a7e6-7c14b5dd3ecc",
   "metadata": {},
   "outputs": [
    {
     "data": {
      "image/png": "[encoded data removed]",
      "text/plain": [
       "<Figure size 432x288 with 1 Axes>"
      ]
     },
     "metadata": {
      "needs_background": "light"
     },
     "output_type": "display_data"
    }
   ],
   "source": [
    "plt.plot(z,deps_gun_scorp,  label = \"g4bench_gun\")\n",
    "plt.plot(z,deps_my_gun_scorp, label= \"my_gun\")\n",
    "plt.title(\"deps-gun-gun (30,30)\")\n",
    "plt.legend()\n",
    "plt.show()"
   ]
  },
  {
   "cell_type": "markdown",
   "id": "9c0cdde4-baed-4e1b-946d-1b58e463defc",
   "metadata": {},
   "source": [
    "## the result of gun beam shoot directly to water voxel"
   ]
  },
  {
   "cell_type": "code",
   "execution_count": 31,
   "id": "623c1cf4-bbd7-4c4b-94a6-d9cecd37d747",
   "metadata": {},
   "outputs": [],
   "source": [
    "z, g4gun_direc = MakeDoseList_z(\"/home/yoshijun/Work/g4bench/build/vgeo/g4bench_gun_direct.csv\",150)"
   ]
  },
  {
   "cell_type": "code",
   "execution_count": 32,
   "id": "5d470085-daf8-4919-9fe5-703ff8fdbec6",
   "metadata": {},
   "outputs": [],
   "source": [
    "z,mygun_direc = MakeDoseList_z(\"/home/yoshijun/Work/tutorial01/TestBench/data/pencilbeam_direct.csv\",150)"
   ]
  },
  {
   "cell_type": "code",
   "execution_count": 102,
   "id": "92063a38-a9b2-4a73-b095-a8675bb9bc0a",
   "metadata": {},
   "outputs": [
    {
     "data": {
      "image/png": "[encoded data removed]",
      "text/plain": [
       "<Figure size 432x288 with 1 Axes>"
      ]
     },
     "metadata": {
      "needs_background": "light"
     },
     "output_type": "display_data"
    }
   ],
   "source": [
    "plt.plot(z, g4gun_direc)\n",
    "plt.plot(z,mygun_direc)\n",
    "# plt.plot(z,(g4gun_direc-mygun_direc)/mygun_direc)\n",
    "# plt.xlim(0,0.25)\n",
    "plt.show()"
   ]
  },
  {
   "cell_type": "code",
   "execution_count": 111,
   "id": "6ff39464-cf21-43f4-bccb-6b45ca258b09",
   "metadata": {},
   "outputs": [],
   "source": [
    "z, g4gun_direc_scorp = MakeDoseList_scorp(\"/home/yoshijun/Work/g4bench/build/vgeo/g4bench_gun_direct.csv\",150,30,30)"
   ]
  },
  {
   "cell_type": "code",
   "execution_count": 112,
   "id": "f9218cb6-a08e-45ec-ab3e-5b6df920a9cc",
   "metadata": {},
   "outputs": [],
   "source": [
    "z,mygun_direc_scorp = MakeDoseList_scorp(\"/home/yoshijun/Work/tutorial01/TestBench/data/pencilbeam_direct.csv\",150,30,30)"
   ]
  },
  {
   "cell_type": "code",
   "execution_count": 109,
   "id": "4811b085-948f-4cf5-adaa-5a0cd36cbfc6",
   "metadata": {
    "tags": []
   },
   "outputs": [
    {
     "data": {
      "text/plain": [
       "Text(0.5, 0, 'depth [cm]')"
      ]
     },
     "execution_count": 109,
     "metadata": {},
     "output_type": "execute_result"
    },
    {
     "data": {
      "image/png": "[encoded data removed]",
      "text/plain": [
       "<Figure size 432x288 with 1 Axes>"
      ]
     },
     "metadata": {
      "needs_background": "light"
     },
     "output_type": "display_data"
    }
   ],
   "source": [
    "plt.plot(z,g4gun_direc_scorp,label = \"g4gun\")\n",
    "plt.plot(z,mygun_direc_scorp,label = \"mygun\")\n",
    "plt.legend()\n",
    "plt.ylabel(\"dose [MeV]\")\n",
    "plt.xlabel(\"depth [cm]\")"
   ]
  },
  {
   "cell_type": "markdown",
   "id": "a9a85f6b-a7a2-4ff5-be21-f7c4afae90b6",
   "metadata": {},
   "source": [
    "### beam directry shoot all water logical boxcell"
   ]
  },
  {
   "cell_type": "code",
   "execution_count": 38,
   "id": "5e31fde7-bb72-4a73-bfff-42ef0635cfab",
   "metadata": {},
   "outputs": [],
   "source": [
    "z,mygun_direc_AW_scorp = MakeDoseList_scorp(\"/home/yoshijun/Work/tutorial01/TestBench/data/pencilbeam_direct_all_water.csv\",150,30,30)"
   ]
  },
  {
   "cell_type": "code",
   "execution_count": 40,
   "id": "e4045b7a-ccdc-42ed-8f05-98815fcf5ef8",
   "metadata": {},
   "outputs": [
    {
     "data": {
      "text/plain": [
       "[<matplotlib.lines.Line2D at 0x7f5c880fd3d0>]"
      ]
     },
     "execution_count": 40,
     "metadata": {},
     "output_type": "execute_result"
    },
    {
     "data": {
      "image/png": "[encoded data removed]",
      "text/plain": [
       "<Figure size 432x288 with 1 Axes>"
      ]
     },
     "metadata": {
      "needs_background": "light"
     },
     "output_type": "display_data"
    }
   ],
   "source": [
    "plt.plot(z,mygun_direc_AW_scorp)\n",
    "plt.plot(z,g4gun_direc_scorp)"
   ]
  },
  {
   "cell_type": "markdown",
   "id": "5f736734-4670-4463-ba81-bdf80d6bb7c8",
   "metadata": {},
   "source": [
    "### beam shoot galaxcy"
   ]
  },
  {
   "cell_type": "code",
   "execution_count": 49,
   "id": "a55016e5-59e2-4f16-b00a-cb3d36eea46f",
   "metadata": {},
   "outputs": [],
   "source": [
    "z,mygun_broad_galac = MakeDoseList_scorp(\"/home/yoshijun/Work/tutorial01/TestBench/data/broadbeam_galactic_all_water.csv\",150,30,30)"
   ]
  },
  {
   "cell_type": "code",
   "execution_count": 52,
   "id": "1b5bc955-e080-4502-b28f-ff1755bbeb7e",
   "metadata": {},
   "outputs": [],
   "source": [
    "z,mygun_pencil_galac = MakeDoseList_scorp(\"/home/yoshijun/Work/tutorial01/TestBench/data/pencilbeam_galaxy_all_water.csv\",150,30,30)"
   ]
  },
  {
   "cell_type": "code",
   "execution_count": 57,
   "id": "1d7e2a3f-4873-4eb7-8130-ffddc48629d9",
   "metadata": {},
   "outputs": [],
   "source": [
    "z,g4gun_pencil_galac = MakeDoseList_scorp(\"/home/yoshijun/Work/g4bench/build/vgeo/g4bench_gun_galactic.csv\",150,30,30)"
   ]
  },
  {
   "cell_type": "code",
   "execution_count": 63,
   "id": "68d85743-93b1-4cc2-aa91-a3c641250aa0",
   "metadata": {},
   "outputs": [
    {
     "data": {
      "text/plain": [
       "<matplotlib.legend.Legend at 0x7f5c83774730>"
      ]
     },
     "execution_count": 63,
     "metadata": {},
     "output_type": "execute_result"
    },
    {
     "data": {
      "image/png": "[encoded data removed]",
      "text/plain": [
       "<Figure size 432x288 with 1 Axes>"
      ]
     },
     "metadata": {
      "needs_background": "light"
     },
     "output_type": "display_data"
    }
   ],
   "source": [
    "plt.plot(z,mygun_pencil_galac, label = \"mygun\")\n",
    "plt.plot(z,g4gun_pencil_galac, label = \"g4gun\")\n",
    "plt.legend()"
   ]
  },
  {
   "cell_type": "markdown",
   "id": "a0b47a14-2f75-45dc-bf01-1563c95d69f9",
   "metadata": {},
   "source": [
    "### place voxell by parameterised"
   ]
  },
  {
   "cell_type": "code",
   "execution_count": 128,
   "id": "ee77d2d2-7553-4669-b7ac-f04b246361d3",
   "metadata": {},
   "outputs": [],
   "source": [
    "z,mygun_gun_nested = MakeDoseList_scorp(\"/home/yoshijun/Work/tutorial01/TestBench/data/pencilbeam_galaxy_nestedPara.csv\",150,30,30)"
   ]
  },
  {
   "cell_type": "code",
   "execution_count": 129,
   "id": "edb0ba60-78aa-49d1-8fb7-a18216b79ff2",
   "metadata": {},
   "outputs": [],
   "source": [
    "z,mygun_broad_nested = MakeDoseList_scorp(\"/home/yoshijun/Work/tutorial01/TestBench/data/broadbeam_galactic_nestedPara.csv\",150,30,30)"
   ]
  },
  {
   "cell_type": "code",
   "execution_count": 134,
   "id": "269343a2-5c69-43c5-9251-3e2fe31a26c2",
   "metadata": {},
   "outputs": [
    {
     "data": {
      "text/plain": [
       "[<matplotlib.lines.Line2D at 0x7f5c824231c0>]"
      ]
     },
     "execution_count": 134,
     "metadata": {},
     "output_type": "execute_result"
    },
    {
     "data": {
      "image/png": "[encoded data removed]",
      "text/plain": [
       "<Figure size 432x288 with 1 Axes>"
      ]
     },
     "metadata": {
      "needs_background": "light"
     },
     "output_type": "display_data"
    }
   ],
   "source": [
    "plt.plot(z,mygun_gun_nested)\n",
    "plt.plot(z,g4gun_pencil_galac)"
   ]
  },
  {
   "cell_type": "code",
   "execution_count": 152,
   "id": "1b145c1a-323e-473c-9591-da1369024398",
   "metadata": {},
   "outputs": [
    {
     "name": "stdout",
     "output_type": "stream",
     "text": [
      "dose    0.108929\n",
      "Name: 210236, dtype: float64\n"
     ]
    },
    {
     "data": {
      "text/plain": [
       "<matplotlib.collections.PathCollection at 0x7f5c82149490>"
      ]
     },
     "execution_count": 152,
     "metadata": {},
     "output_type": "execute_result"
    },
    {
     "data": {
      "image/png": "[encoded data removed]",
      "text/plain": [
       "<Figure size 432x288 with 1 Axes>"
      ]
     },
     "metadata": {
      "needs_background": "light"
     },
     "output_type": "display_data"
    }
   ],
   "source": [
    "diff = (g4gun_pencil_galac - mygun_gun_nested) / mygun_gun_nested\n",
    "print(diff.iloc[56])\n",
    "plt.scatter(z,diff)"
   ]
  },
  {
   "cell_type": "markdown",
   "id": "f13e7992-f640-4148-8741-dcbee22fa980",
   "metadata": {},
   "source": [
    "### dose all voxcel"
   ]
  },
  {
   "cell_type": "code",
   "execution_count": 161,
   "id": "fb7ede45-6da8-4137-bc56-48ff0f2d8d2e",
   "metadata": {},
   "outputs": [],
   "source": [
    "mygun_all_dose = pd.read_csv(\"/home/yoshijun/Work/tutorial01/TestBench/data/pencilbeam_single_voxel.csv\")"
   ]
  },
  {
   "cell_type": "code",
   "execution_count": 162,
   "id": "fb4d3852-c2e0-4bf0-95ff-7e34e549c9ff",
   "metadata": {},
   "outputs": [],
   "source": [
    "mybeam_all_dose = pd.read_csv(\"/home/yoshijun/Work/tutorial01/TestBench/data/broadbeam_single_voxel.csv\")"
   ]
  },
  {
   "cell_type": "code",
   "execution_count": null,
   "id": "1a2b686c-39af-4177-b760-d209f3961abf",
   "metadata": {},
   "outputs": [],
   "source": []
  },
  {
   "cell_type": "code",
   "execution_count": 166,
   "id": "ed12d0cb-8c93-4eaf-8612-12d43c300e1e",
   "metadata": {},
   "outputs": [
    {
     "name": "stdout",
     "output_type": "stream",
     "text": [
      "0    18.6092\n",
      "Name: dose, dtype: float64\n",
      "0    18.5995\n",
      "Name: dose, dtype: float64\n",
      "19.041\n"
     ]
    }
   ],
   "source": [
    "print(mygun_all_dose['dose'] / 10000000) #mygun \n",
    "print(mybeam_all_dose['dose'] / 10000000) #mybeam\n",
    "print(19.041) #g4bench"
   ]
  },
  {
   "cell_type": "code",
   "execution_count": null,
   "id": "997ddd9d-2335-43bf-8016-5ed3e3bf8282",
   "metadata": {},
   "outputs": [],
   "source": []
  }
 ],
 "metadata": {
  "kernelspec": {
   "display_name": "Python 3",
   "language": "python",
   "name": "python3"
  },
  "language_info": {
   "codemirror_mode": {
    "name": "ipython",
    "version": 3
   },
   "file_extension": ".py",
   "mimetype": "text/x-python",
   "name": "python",
   "nbconvert_exporter": "python",
   "pygments_lexer": "ipython3",
   "version": "3.8.8"
  }
 },
 "nbformat": 4,
 "nbformat_minor": 5
}
