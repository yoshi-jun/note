{
 "cells": [
  {
   "cell_type": "code",
   "execution_count": 1,
   "id": "5f4544a9-eed4-4d70-b1db-6383c4985f5a",
   "metadata": {},
   "outputs": [],
   "source": [
    "import numpy as np\n",
    "import matplotlib.pyplot as plt\n",
    "import pandas as pd "
   ]
  },
  {
   "cell_type": "code",
   "execution_count": 2,
   "id": "7fe28649-29e4-4423-8199-e1ebb4012110",
   "metadata": {},
   "outputs": [],
   "source": [
    "mygun_kine_e_surf = pd.read_csv(\"/home/yoshijun/Work/tutorial01/TestBench/data/pencil_kinematic_energy_surf.csv\")"
   ]
  },
  {
   "cell_type": "code",
   "execution_count": 3,
   "id": "8c24fc5f-03d4-445e-a933-90eae7c834a0",
   "metadata": {},
   "outputs": [],
   "source": [
    "g4gun_kine_e_surf = pd.read_csv(\"/home/yoshijun/Work/g4bench/build/vgeo/gun_kinematic_energy_surf.csv\")"
   ]
  },
  {
   "cell_type": "code",
   "execution_count": 6,
   "id": "918d12c2-10ed-402f-a521-db1c00869c47",
   "metadata": {},
   "outputs": [
    {
     "data": {
      "text/plain": [
       "(array([    0.,     0.,     0.,     0.,     0.,     0.,     0.,     0.,\n",
       "            0.,     0.,     0.,     0.,     0.,     0.,     0.,     0.,\n",
       "            0.,     0.,     0.,     0.,     0.,     0.,     0.,     0.,\n",
       "            0.,     0.,     0.,     0.,     0.,     0.,     0.,     0.,\n",
       "            0.,     0.,     0.,     0.,     0.,     0.,     0.,     0.,\n",
       "            0.,     0.,     0.,     0.,     0.,     0.,     0.,     0.,\n",
       "            0.,     0., 10051.,     0.,     0.,     0.,     0.,     0.,\n",
       "            0.,     0.,     0.,     0.,     0.,     0.,     0.,     0.,\n",
       "            0.,     0.,     0.,     0.,     0.,     0.,     0.,     0.,\n",
       "            0.,     0.,     0.,     0.,     0.,     0.,     0.,     0.,\n",
       "            0.,     0.,     0.,     0.,     0.,     0.,     0.,     0.,\n",
       "            0.,     0.,     0.,     0.,     0.,     0.,     0.,     0.,\n",
       "            0.,     0.,     0.,     0.]),\n",
       " array([18.9955, 19.0055, 19.0155, 19.0255, 19.0355, 19.0455, 19.0555,\n",
       "        19.0655, 19.0755, 19.0855, 19.0955, 19.1055, 19.1155, 19.1255,\n",
       "        19.1355, 19.1455, 19.1555, 19.1655, 19.1755, 19.1855, 19.1955,\n",
       "        19.2055, 19.2155, 19.2255, 19.2355, 19.2455, 19.2555, 19.2655,\n",
       "        19.2755, 19.2855, 19.2955, 19.3055, 19.3155, 19.3255, 19.3355,\n",
       "        19.3455, 19.3555, 19.3655, 19.3755, 19.3855, 19.3955, 19.4055,\n",
       "        19.4155, 19.4255, 19.4355, 19.4455, 19.4555, 19.4655, 19.4755,\n",
       "        19.4855, 19.4955, 19.5055, 19.5155, 19.5255, 19.5355, 19.5455,\n",
       "        19.5555, 19.5655, 19.5755, 19.5855, 19.5955, 19.6055, 19.6155,\n",
       "        19.6255, 19.6355, 19.6455, 19.6555, 19.6655, 19.6755, 19.6855,\n",
       "        19.6955, 19.7055, 19.7155, 19.7255, 19.7355, 19.7455, 19.7555,\n",
       "        19.7655, 19.7755, 19.7855, 19.7955, 19.8055, 19.8155, 19.8255,\n",
       "        19.8355, 19.8455, 19.8555, 19.8655, 19.8755, 19.8855, 19.8955,\n",
       "        19.9055, 19.9155, 19.9255, 19.9355, 19.9455, 19.9555, 19.9655,\n",
       "        19.9755, 19.9855, 19.9955]),\n",
       " <BarContainer object of 100 artists>)"
      ]
     },
     "execution_count": 6,
     "metadata": {},
     "output_type": "execute_result"
    },
    {
     "data": {
      "image/png": "[encoded data removed]",
      "text/plain": [
       "<Figure size 432x288 with 1 Axes>"
      ]
     },
     "metadata": {
      "needs_background": "light"
     },
     "output_type": "display_data"
    }
   ],
   "source": [
    "plt.hist(mygun_kine_e_surf,bins = 100)"
   ]
  },
  {
   "cell_type": "code",
   "execution_count": 7,
   "id": "a3f401b5-d3f6-40dd-a5e2-98f076aeb769",
   "metadata": {},
   "outputs": [
    {
     "data": {
      "text/plain": [
       "(array([1.000e+00, 1.000e+00, 1.000e+00, 5.000e+00, 0.000e+00, 2.000e+00,\n",
       "        0.000e+00, 0.000e+00, 2.000e+00, 0.000e+00, 1.000e+00, 4.000e+00,\n",
       "        0.000e+00, 2.000e+00, 2.000e+00, 0.000e+00, 1.000e+00, 1.000e+00,\n",
       "        2.000e+00, 1.000e+00, 2.000e+00, 2.000e+00, 1.000e+00, 2.000e+00,\n",
       "        1.000e+00, 1.000e+00, 2.000e+00, 0.000e+00, 5.000e+00, 1.000e+00,\n",
       "        2.000e+00, 2.000e+00, 2.000e+00, 0.000e+00, 0.000e+00, 3.000e+00,\n",
       "        7.000e+00, 3.000e+00, 4.000e+00, 3.000e+00, 0.000e+00, 3.000e+00,\n",
       "        0.000e+00, 3.000e+00, 4.000e+00, 1.000e+00, 5.000e+00, 1.000e+00,\n",
       "        5.000e+00, 3.000e+00, 2.000e+00, 4.000e+00, 3.000e+00, 5.000e+00,\n",
       "        5.000e+00, 3.000e+00, 3.000e+00, 4.000e+00, 6.000e+00, 4.000e+00,\n",
       "        5.000e+00, 4.000e+00, 8.000e+00, 3.000e+00, 4.000e+00, 7.000e+00,\n",
       "        6.000e+00, 7.000e+00, 2.000e+00, 1.000e+01, 7.000e+00, 9.000e+00,\n",
       "        7.000e+00, 7.000e+00, 4.000e+00, 2.000e+00, 8.000e+00, 5.000e+00,\n",
       "        8.000e+00, 8.000e+00, 3.000e+00, 1.400e+01, 1.100e+01, 1.000e+01,\n",
       "        1.000e+01, 1.300e+01, 2.000e+01, 1.300e+01, 2.100e+01, 3.000e+01,\n",
       "        3.800e+01, 6.400e+01, 5.900e+01, 4.900e+01, 1.160e+02, 2.100e+02,\n",
       "        6.100e+02, 3.170e+03, 5.359e+03, 2.110e+02]),\n",
       " array([ 0.398423  ,  0.59270077,  0.78697854,  0.98125631,  1.17553408,\n",
       "         1.36981185,  1.56408962,  1.75836739,  1.95264516,  2.14692293,\n",
       "         2.3412007 ,  2.53547847,  2.72975624,  2.92403401,  3.11831178,\n",
       "         3.31258955,  3.50686732,  3.70114509,  3.89542286,  4.08970063,\n",
       "         4.2839784 ,  4.47825617,  4.67253394,  4.86681171,  5.06108948,\n",
       "         5.25536725,  5.44964502,  5.64392279,  5.83820056,  6.03247833,\n",
       "         6.2267561 ,  6.42103387,  6.61531164,  6.80958941,  7.00386718,\n",
       "         7.19814495,  7.39242272,  7.58670049,  7.78097826,  7.97525603,\n",
       "         8.1695338 ,  8.36381157,  8.55808934,  8.75236711,  8.94664488,\n",
       "         9.14092265,  9.33520042,  9.52947819,  9.72375596,  9.91803373,\n",
       "        10.1123115 , 10.30658927, 10.50086704, 10.69514481, 10.88942258,\n",
       "        11.08370035, 11.27797812, 11.47225589, 11.66653366, 11.86081143,\n",
       "        12.0550892 , 12.24936697, 12.44364474, 12.63792251, 12.83220028,\n",
       "        13.02647805, 13.22075582, 13.41503359, 13.60931136, 13.80358913,\n",
       "        13.9978669 , 14.19214467, 14.38642244, 14.58070021, 14.77497798,\n",
       "        14.96925575, 15.16353352, 15.35781129, 15.55208906, 15.74636683,\n",
       "        15.9406446 , 16.13492237, 16.32920014, 16.52347791, 16.71775568,\n",
       "        16.91203345, 17.10631122, 17.30058899, 17.49486676, 17.68914453,\n",
       "        17.8834223 , 18.07770007, 18.27197784, 18.46625561, 18.66053338,\n",
       "        18.85481115, 19.04908892, 19.24336669, 19.43764446, 19.63192223,\n",
       "        19.8262    ]),\n",
       " <BarContainer object of 100 artists>)"
      ]
     },
     "execution_count": 7,
     "metadata": {},
     "output_type": "execute_result"
    },
    {
     "data": {
      "image/png": "[encoded data removed]",
      "text/plain": [
       "<Figure size 432x288 with 1 Axes>"
      ]
     },
     "metadata": {
      "needs_background": "light"
     },
     "output_type": "display_data"
    }
   ],
   "source": [
    "plt.hist(g4gun_kine_e_surf,bins = 100)"
   ]
  },
  {
   "cell_type": "code",
   "execution_count": null,
   "id": "28995d51-51f3-43bc-9409-082a1f214fea",
   "metadata": {},
   "outputs": [],
   "source": []
  }
 ],
 "metadata": {
  "kernelspec": {
   "display_name": "Python 3",
   "language": "python",
   "name": "python3"
  },
  "language_info": {
   "codemirror_mode": {
    "name": "ipython",
    "version": 3
   },
   "file_extension": ".py",
   "mimetype": "text/x-python",
   "name": "python",
   "nbconvert_exporter": "python",
   "pygments_lexer": "ipython3",
   "version": "3.8.8"
  }
 },
 "nbformat": 4,
 "nbformat_minor": 5
}
